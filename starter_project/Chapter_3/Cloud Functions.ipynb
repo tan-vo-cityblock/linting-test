{
 "cells": [
  {
   "cell_type": "markdown",
   "metadata": {},
   "source": [
    "### Installing Requirements to Connect to Pubsub and Google Cloud Storage via Python"
   ]
  },
  {
   "cell_type": "markdown",
   "metadata": {},
   "source": [
    "In your terminal (once you've launched your virtual env) run: <br>\n",
    "\n",
    "```bash\n",
    "pip install --upgrade google-cloud-pubsub\n",
    "pip install --upgrade google-cloud-storage\n",
    "```"
   ]
  },
  {
   "cell_type": "markdown",
   "metadata": {},
   "source": [
    "##### Goal\n",
    "Provided a file in GCS (Google Cloud Storage), we wish to read the contents of that file via a CloudFunction and forward it to a Pubsub topic. We would also like to inspect into the Pubsub stream and view the contents"
   ]
  },
  {
   "cell_type": "markdown",
   "metadata": {},
   "source": [
    "## GCS Storage\n",
    "\n",
    "###### Reference:\n",
    "https://googleapis.github.io/google-cloud-python/latest/storage/client.html <br>\n",
    "https://github.com/GoogleCloudPlatform/python-docs-samples/blob/master/storage/cloud-client/quickstart.py"
   ]
  },
  {
   "cell_type": "markdown",
   "metadata": {},
   "source": [
    "In order to create a connection to GCS we can execute the following code:\n",
    "\n",
    "```python\n",
    "from google.cloud import storage\n",
    "storage_client = storage.Client()\n",
    "```\n",
    "\n",
    "##### Optional\n",
    "The above code uses your service account. If you wish to not do so, you may alternatively create one (via the UI) and run the below code: \n",
    "\n",
    "```python\n",
    "from google.cloud import storage\n",
    "from google.oauth2 import service_account\n",
    "\n",
    "service_acct_filepath = <filename>\n",
    "\n",
    "scopes = [\"https://www.googleapis.com/auth/devstorage.full_control\", \n",
    "          \"https://www.googleapis.com/auth/devstorage.read_only\",\n",
    "          \"https://www.googleapis.com/auth/devstorage.read_write\"]\n",
    "\n",
    "credentials = service_account.Credentials.from_service_account_file(filename=service_acct_filepath, scopes=scopes)\n",
    "storage_client = storage.Client()\n",
    "```"
   ]
  },
  {
   "cell_type": "markdown",
   "metadata": {},
   "source": [
    "### Coding"
   ]
  },
  {
   "cell_type": "markdown",
   "metadata": {},
   "source": [
    "Let us begin this section by trying to construct a function which will allow us to read the contents of a file located in GCS and output said file to the screen. You can continue this example in either an Ipython terminal, a python terminal, a notebook or simply through your favourite editor.\n",
    "\n",
    "```python\n",
    "\n",
    "from google.cloud import storage\n",
    "storage_client = storage.Client()\n",
    "\n",
    "bucket = \"<bucket-name-here>\"\n",
    "source_blob_name = \"<the-remaining-file-path-to-the-blob-object-here>\"\n",
    "\n",
    "bucket = storage_client.get_bucket(bucket_name)\n",
    "blob = bucket.blob(source_blob_name)\n",
    "\n",
    "contents = blob.download_as_string()\n",
    "print(contents.decode())\n",
    "\n",
    "```\n"
   ]
  },
  {
   "cell_type": "markdown",
   "metadata": {},
   "source": [
    "### Problem\n",
    "\n",
    "Create a generator function which takes as input a bucket and a blob path, opens the file and yields the contents of a file.\n",
    "\n",
    "##### Bonus:\n",
    "How can this problem be optimized for large files? (No need to write code for this)"
   ]
  },
  {
   "cell_type": "code",
   "execution_count": 3,
   "metadata": {},
   "outputs": [],
   "source": [
    "## your code here"
   ]
  },
  {
   "cell_type": "markdown",
   "metadata": {},
   "source": [
    "<br> <br>"
   ]
  },
  {
   "cell_type": "markdown",
   "metadata": {},
   "source": [
    "## Pubsub"
   ]
  },
  {
   "cell_type": "markdown",
   "metadata": {},
   "source": [
    "In order to create a connection to PubSub we can execute the following code:\n",
    "\n",
    "```python\n",
    "from google.cloud import pubsub_v1\n",
    "publisher = pubsub_v1.PublisherClient()\n",
    "```"
   ]
  },
  {
   "cell_type": "markdown",
   "metadata": {},
   "source": [
    "### Coding"
   ]
  },
  {
   "cell_type": "markdown",
   "metadata": {},
   "source": [
    "This section of code will be a little more obscure and anticipates that the user will be able to intuitively construct functions from the following code examples:\n",
    "\n",
    "```python\n",
    "\n",
    "project_id = # Enter the project belonging to the topic\n",
    "topic_name = # Enter topic name\n",
    "\n",
    "topic_path = publisher.topic_path(project_id, topic_name)\n",
    "\n",
    "line = \"hello world\"\n",
    "\n",
    "byteString = line.encode('utf-8')\n",
    "publisher.publish(topic_path, byteString)\n",
    "```\n",
    "\n",
    "Pubsub allows you also to pass a key-value map that you may use to label the data. This allows performance benefits by allowing the user to not have to look into the contents of the pubsub message or by providing accessibility to checksums. Read the docs on how to do this."
   ]
  },
  {
   "cell_type": "markdown",
   "metadata": {},
   "source": [
    "### Problem\n",
    "\n",
    "\n",
    "- Create a function which populates messages to pubsub by taking as input a line and the topic to write to, and writes the input \n",
    "\n",
    "- Allow the function to publish to pubsub, the attributes `word_count`and `char_count` for every line in pubsub"
   ]
  },
  {
   "cell_type": "code",
   "execution_count": 5,
   "metadata": {},
   "outputs": [],
   "source": [
    "## your code here"
   ]
  },
  {
   "cell_type": "markdown",
   "metadata": {},
   "source": [
    "<br> <br>"
   ]
  },
  {
   "cell_type": "markdown",
   "metadata": {},
   "source": [
    "### Creating a Pubsub Topic via terraform\n",
    "#### Reference:\n",
    "https://www.terraform.io/docs/providers/google/r/pubsub_topic.html"
   ]
  },
  {
   "cell_type": "markdown",
   "metadata": {},
   "source": [
    "Read the above documentation to create a pubsub.tf file in your personal project in terraform. Before committing to master, read the pubsub.tf in the solutions folder and compare your solution for correctness."
   ]
  },
  {
   "cell_type": "code",
   "execution_count": null,
   "metadata": {},
   "outputs": [],
   "source": []
  },
  {
   "cell_type": "code",
   "execution_count": null,
   "metadata": {},
   "outputs": [],
   "source": []
  },
  {
   "cell_type": "code",
   "execution_count": null,
   "metadata": {},
   "outputs": [],
   "source": []
  }
 ],
 "metadata": {
  "kernelspec": {
   "display_name": "Python 3",
   "language": "python",
   "name": "python3"
  },
  "language_info": {
   "codemirror_mode": {
    "name": "ipython",
    "version": 3
   },
   "file_extension": ".py",
   "mimetype": "text/x-python",
   "name": "python",
   "nbconvert_exporter": "python",
   "pygments_lexer": "ipython3",
   "version": "3.7.3"
  }
 },
 "nbformat": 4,
 "nbformat_minor": 2
}
